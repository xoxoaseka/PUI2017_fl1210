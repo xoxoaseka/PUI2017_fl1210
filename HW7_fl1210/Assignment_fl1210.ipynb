{
 "cells": [
  {
   "cell_type": "code",
   "execution_count": 1,
   "metadata": {
    "collapsed": false,
    "scrolled": true
   },
   "outputs": [
    {
     "name": "stdout",
     "output_type": "stream",
     "text": [
      "Populating the interactive namespace from numpy and matplotlib\n"
     ]
    }
   ],
   "source": [
    "from __future__  import print_function, division\n",
    "import pylab as pl\n",
    "import pandas as pd\n",
    "import numpy as np\n",
    "import os\n",
    "\n",
    "%pylab inline\n",
    "\n",
    "if os.getenv ('PUIDATA') is None:\n",
    "    print (\"Must set env variable PUIDATA\")\n",
    "\n",
    "import os\n",
    "import json\n"
   ]
  },
  {
   "cell_type": "markdown",
   "metadata": {},
   "source": [
    "## IDEA:\n",
    "### Older people are less likely than younger people to use bike during night time (19:00-5:00)"
   ]
  },
  {
   "cell_type": "markdown",
   "metadata": {},
   "source": [
    "### download and move  data to PUIDATA"
   ]
  },
  {
   "cell_type": "code",
   "execution_count": 2,
   "metadata": {
    "collapsed": true
   },
   "outputs": [],
   "source": [
    "### A function to download the data\n",
    "\n",
    "def getCitiBikeCSV(datestring):\n",
    "    print (\"Downloading\", datestring)\n",
    "    ### First I will heck that it is not already there\n",
    "    if not os.path.isfile(os.getenv(\"PUIDATA\") + \"/\" + datestring + \"-citibike-tripdata.csv\"):\n",
    "        if os.path.isfile(datestring + \"-citibike-tripdata.csv\"):\n",
    "            # if in the current dir just move it\n",
    "            if os.system(\"mv \" + datestring + \"-citibike-tripdata.csv \" + os.getenv(\"PUIDATA\")):\n",
    "                print (\"Error moving file!, Please check!\")\n",
    "        #otherwise start looking for the zip file\n",
    "        else:\n",
    "            if not os.path.isfile(os.getenv(\"PUIDATA\") + \"/\" + datestring + \"-citibike-tripdata.zip\"):\n",
    "                if not os.path.isfile(datestring + \"-citibike-tripdata.zip\"):\n",
    "                    os.system(\"curl -O https://s3.amazonaws.com/tripdata/\" + datestring + \"-citibike-tripdata.zip\")\n",
    "                ###  To move it I use the os.system() functions to run bash commands with arguments\n",
    "                os.system(\"mv \" + datestring + \"-citibike-tripdata.zip \" + os.getenv(\"PUIDATA\"))\n",
    "            ### unzip the csv \n",
    "            os.system(\"unzip \" + os.getenv(\"PUIDATA\") + \"/\" + datestring + \"-citibike-tripdata.zip\")\n",
    "            ## NOTE: old csv citibike data had a different name structure. \n",
    "            if '2014' in datestring:\n",
    "                os.system(\"mv \" + datestring[:4] + '-' +  datestring[4:] + \n",
    "                          \"\\ -\\ Citi\\ Bike\\ trip\\ data.csv \" + datestring + \"-citibike-tripdata.csv\")\n",
    "            os.system(\"mv \" + datestring + \"-citibike-tripdata.csv \" + os.getenv(\"PUIDATA\"))\n",
    "    ### One final check:\n",
    "    if not os.path.isfile(os.getenv(\"PUIDATA\") + \"/\" + datestring + \"-citibike-tripdata.csv\"):\n",
    "        print (\"WARNING!!! something is wrong: the file is not there!\")\n",
    "\n",
    "    else:\n",
    "        print (\"file in place, you can continue\")"
   ]
  },
  {
   "cell_type": "code",
   "execution_count": 3,
   "metadata": {
    "collapsed": false
   },
   "outputs": [
    {
     "name": "stdout",
     "output_type": "stream",
     "text": [
      "Downloading 201503\n",
      "file in place, you can continue\n"
     ]
    }
   ],
   "source": [
    "datestring = '201503'\n",
    "getCitiBikeCSV(datestring)"
   ]
  },
  {
   "cell_type": "code",
   "execution_count": 4,
   "metadata": {
    "collapsed": false
   },
   "outputs": [
    {
     "data": {
      "text/html": [
       "<div>\n",
       "<table border=\"1\" class=\"dataframe\">\n",
       "  <thead>\n",
       "    <tr style=\"text-align: right;\">\n",
       "      <th></th>\n",
       "      <th>tripduration</th>\n",
       "      <th>starttime</th>\n",
       "      <th>stoptime</th>\n",
       "      <th>start station id</th>\n",
       "      <th>start station name</th>\n",
       "      <th>start station latitude</th>\n",
       "      <th>start station longitude</th>\n",
       "      <th>end station id</th>\n",
       "      <th>end station name</th>\n",
       "      <th>end station latitude</th>\n",
       "      <th>end station longitude</th>\n",
       "      <th>bikeid</th>\n",
       "      <th>usertype</th>\n",
       "      <th>birth year</th>\n",
       "      <th>gender</th>\n",
       "      <th>date</th>\n",
       "    </tr>\n",
       "  </thead>\n",
       "  <tbody>\n",
       "    <tr>\n",
       "      <th>0</th>\n",
       "      <td>669</td>\n",
       "      <td>3/1/2015 0:00</td>\n",
       "      <td>3/1/2015 0:11</td>\n",
       "      <td>164</td>\n",
       "      <td>E 47 St &amp; 2 Ave</td>\n",
       "      <td>40.753231</td>\n",
       "      <td>-73.970325</td>\n",
       "      <td>477</td>\n",
       "      <td>W 41 St &amp; 8 Ave</td>\n",
       "      <td>40.756405</td>\n",
       "      <td>-73.990026</td>\n",
       "      <td>21409</td>\n",
       "      <td>Subscriber</td>\n",
       "      <td>1987.0</td>\n",
       "      <td>1</td>\n",
       "      <td>2015-03-01 00:00:00</td>\n",
       "    </tr>\n",
       "    <tr>\n",
       "      <th>1</th>\n",
       "      <td>750</td>\n",
       "      <td>3/1/2015 0:01</td>\n",
       "      <td>3/1/2015 0:14</td>\n",
       "      <td>258</td>\n",
       "      <td>DeKalb Ave &amp; Vanderbilt Ave</td>\n",
       "      <td>40.689407</td>\n",
       "      <td>-73.968855</td>\n",
       "      <td>436</td>\n",
       "      <td>Hancock St &amp; Bedford Ave</td>\n",
       "      <td>40.682166</td>\n",
       "      <td>-73.953990</td>\n",
       "      <td>19397</td>\n",
       "      <td>Subscriber</td>\n",
       "      <td>1968.0</td>\n",
       "      <td>1</td>\n",
       "      <td>2015-03-01 00:01:00</td>\n",
       "    </tr>\n",
       "    <tr>\n",
       "      <th>2</th>\n",
       "      <td>663</td>\n",
       "      <td>3/1/2015 0:01</td>\n",
       "      <td>3/1/2015 0:12</td>\n",
       "      <td>497</td>\n",
       "      <td>E 17 St &amp; Broadway</td>\n",
       "      <td>40.737050</td>\n",
       "      <td>-73.990093</td>\n",
       "      <td>477</td>\n",
       "      <td>W 41 St &amp; 8 Ave</td>\n",
       "      <td>40.756405</td>\n",
       "      <td>-73.990026</td>\n",
       "      <td>20998</td>\n",
       "      <td>Customer</td>\n",
       "      <td>NaN</td>\n",
       "      <td>0</td>\n",
       "      <td>2015-03-01 00:01:00</td>\n",
       "    </tr>\n",
       "    <tr>\n",
       "      <th>3</th>\n",
       "      <td>480</td>\n",
       "      <td>3/1/2015 0:02</td>\n",
       "      <td>3/1/2015 0:10</td>\n",
       "      <td>470</td>\n",
       "      <td>W 20 St &amp; 8 Ave</td>\n",
       "      <td>40.743453</td>\n",
       "      <td>-74.000040</td>\n",
       "      <td>491</td>\n",
       "      <td>E 24 St &amp; Park Ave S</td>\n",
       "      <td>40.740964</td>\n",
       "      <td>-73.986022</td>\n",
       "      <td>21565</td>\n",
       "      <td>Subscriber</td>\n",
       "      <td>1983.0</td>\n",
       "      <td>1</td>\n",
       "      <td>2015-03-01 00:02:00</td>\n",
       "    </tr>\n",
       "    <tr>\n",
       "      <th>4</th>\n",
       "      <td>1258</td>\n",
       "      <td>3/1/2015 0:02</td>\n",
       "      <td>3/1/2015 0:23</td>\n",
       "      <td>345</td>\n",
       "      <td>W 13 St &amp; 6 Ave</td>\n",
       "      <td>40.736494</td>\n",
       "      <td>-73.997044</td>\n",
       "      <td>473</td>\n",
       "      <td>Rivington St &amp; Chrystie St</td>\n",
       "      <td>40.721101</td>\n",
       "      <td>-73.991925</td>\n",
       "      <td>14693</td>\n",
       "      <td>Subscriber</td>\n",
       "      <td>1970.0</td>\n",
       "      <td>1</td>\n",
       "      <td>2015-03-01 00:02:00</td>\n",
       "    </tr>\n",
       "  </tbody>\n",
       "</table>\n",
       "</div>"
      ],
      "text/plain": [
       "   tripduration      starttime       stoptime  start station id  \\\n",
       "0           669  3/1/2015 0:00  3/1/2015 0:11               164   \n",
       "1           750  3/1/2015 0:01  3/1/2015 0:14               258   \n",
       "2           663  3/1/2015 0:01  3/1/2015 0:12               497   \n",
       "3           480  3/1/2015 0:02  3/1/2015 0:10               470   \n",
       "4          1258  3/1/2015 0:02  3/1/2015 0:23               345   \n",
       "\n",
       "            start station name  start station latitude  \\\n",
       "0              E 47 St & 2 Ave               40.753231   \n",
       "1  DeKalb Ave & Vanderbilt Ave               40.689407   \n",
       "2           E 17 St & Broadway               40.737050   \n",
       "3              W 20 St & 8 Ave               40.743453   \n",
       "4              W 13 St & 6 Ave               40.736494   \n",
       "\n",
       "   start station longitude  end station id            end station name  \\\n",
       "0               -73.970325             477             W 41 St & 8 Ave   \n",
       "1               -73.968855             436    Hancock St & Bedford Ave   \n",
       "2               -73.990093             477             W 41 St & 8 Ave   \n",
       "3               -74.000040             491        E 24 St & Park Ave S   \n",
       "4               -73.997044             473  Rivington St & Chrystie St   \n",
       "\n",
       "   end station latitude  end station longitude  bikeid    usertype  \\\n",
       "0             40.756405             -73.990026   21409  Subscriber   \n",
       "1             40.682166             -73.953990   19397  Subscriber   \n",
       "2             40.756405             -73.990026   20998    Customer   \n",
       "3             40.740964             -73.986022   21565  Subscriber   \n",
       "4             40.721101             -73.991925   14693  Subscriber   \n",
       "\n",
       "   birth year  gender                date  \n",
       "0      1987.0       1 2015-03-01 00:00:00  \n",
       "1      1968.0       1 2015-03-01 00:01:00  \n",
       "2         NaN       0 2015-03-01 00:01:00  \n",
       "3      1983.0       1 2015-03-01 00:02:00  \n",
       "4      1970.0       1 2015-03-01 00:02:00  "
      ]
     },
     "execution_count": 4,
     "metadata": {},
     "output_type": "execute_result"
    }
   ],
   "source": [
    "df = pd.read_csv(os.getenv(\"PUIDATA\") + \"/\" + datestring + '-citibike-tripdata.csv')\n",
    "# df is the dataframe where the content of the csv file is stored\n",
    "df['date'] = pd.to_datetime(df['starttime'])\n",
    "# note that with dataframes I can refer to variables as dictionary keys, \n",
    "# i.e. df['starttime'] or as attributes: df.starttime. \n",
    "df.head()"
   ]
  },
  {
   "cell_type": "code",
   "execution_count": 5,
   "metadata": {
    "collapsed": false
   },
   "outputs": [
    {
     "data": {
      "text/plain": [
       "Index([u'tripduration', u'starttime', u'stoptime', u'start station id',\n",
       "       u'start station name', u'start station latitude',\n",
       "       u'start station longitude', u'end station id', u'end station name',\n",
       "       u'end station latitude', u'end station longitude', u'bikeid',\n",
       "       u'usertype', u'birth year', u'gender', u'date'],\n",
       "      dtype='object')"
      ]
     },
     "execution_count": 5,
     "metadata": {},
     "output_type": "execute_result"
    }
   ],
   "source": [
    "df.columns"
   ]
  },
  {
   "cell_type": "code",
   "execution_count": 6,
   "metadata": {
    "collapsed": false
   },
   "outputs": [],
   "source": [
    "df.drop(['tripduration', 'starttime', 'stoptime', 'start station id',\n",
    "       'start station name', 'start station latitude',\n",
    "       'start station longitude', 'end station id', 'end station name',\n",
    "       'end station latitude', 'end station longitude', 'bikeid', 'usertype',\n",
    "       'gender'], axis=1, inplace=True)"
   ]
  },
  {
   "cell_type": "code",
   "execution_count": 7,
   "metadata": {
    "collapsed": false
   },
   "outputs": [],
   "source": [
    "df['age']= 2017-df['birth year']"
   ]
  },
  {
   "cell_type": "code",
   "execution_count": 8,
   "metadata": {
    "collapsed": false
   },
   "outputs": [
    {
     "data": {
      "text/html": [
       "<div>\n",
       "<table border=\"1\" class=\"dataframe\">\n",
       "  <thead>\n",
       "    <tr style=\"text-align: right;\">\n",
       "      <th></th>\n",
       "      <th>birth year</th>\n",
       "      <th>date</th>\n",
       "      <th>age</th>\n",
       "    </tr>\n",
       "  </thead>\n",
       "  <tbody>\n",
       "    <tr>\n",
       "      <th>0</th>\n",
       "      <td>1987.0</td>\n",
       "      <td>2015-03-01 00:00:00</td>\n",
       "      <td>30.0</td>\n",
       "    </tr>\n",
       "    <tr>\n",
       "      <th>1</th>\n",
       "      <td>1968.0</td>\n",
       "      <td>2015-03-01 00:01:00</td>\n",
       "      <td>49.0</td>\n",
       "    </tr>\n",
       "    <tr>\n",
       "      <th>2</th>\n",
       "      <td>NaN</td>\n",
       "      <td>2015-03-01 00:01:00</td>\n",
       "      <td>NaN</td>\n",
       "    </tr>\n",
       "    <tr>\n",
       "      <th>3</th>\n",
       "      <td>1983.0</td>\n",
       "      <td>2015-03-01 00:02:00</td>\n",
       "      <td>34.0</td>\n",
       "    </tr>\n",
       "    <tr>\n",
       "      <th>4</th>\n",
       "      <td>1970.0</td>\n",
       "      <td>2015-03-01 00:02:00</td>\n",
       "      <td>47.0</td>\n",
       "    </tr>\n",
       "  </tbody>\n",
       "</table>\n",
       "</div>"
      ],
      "text/plain": [
       "   birth year                date   age\n",
       "0      1987.0 2015-03-01 00:00:00  30.0\n",
       "1      1968.0 2015-03-01 00:01:00  49.0\n",
       "2         NaN 2015-03-01 00:01:00   NaN\n",
       "3      1983.0 2015-03-01 00:02:00  34.0\n",
       "4      1970.0 2015-03-01 00:02:00  47.0"
      ]
     },
     "execution_count": 8,
     "metadata": {},
     "output_type": "execute_result"
    }
   ],
   "source": [
    "#df.drop(['birth year'], axis=1, inplace=True)\n",
    "df.head()"
   ]
  },
  {
   "cell_type": "markdown",
   "metadata": {},
   "source": [
    "### Lets separate older riders(_o) (>=40 years old) from younger riders (_y) (< 40 years old) to test the hypotheses.\n",
    "### Lets plot the number of trips during 24 hours"
   ]
  },
  {
   "cell_type": "code",
   "execution_count": 9,
   "metadata": {
    "collapsed": false
   },
   "outputs": [
    {
     "data": {
      "text/plain": [
       "<matplotlib.text.Text at 0x7f26177b4b50>"
      ]
     },
     "execution_count": 9,
     "metadata": {},
     "output_type": "execute_result"
    },
    {
     "data": {
      "image/png": "[encoded data removed]",
      "text/plain": [
       "<matplotlib.figure.Figure at 0x7f2618054f10>"
      ]
     },
     "metadata": {},
     "output_type": "display_data"
    }
   ],
   "source": [
    "fig = pl.figure(figsize(12,6))\n",
    "#instad of plotting with matplotlib i.e. plot() i use the plot method in pandas\n",
    "norm_o = 1\n",
    "((df['date'][df['age'] >= 40].groupby([df['date'].dt.hour]).count()) / norm_o).plot(kind=\"bar\", \n",
    "                                                                                         color='IndianRed', \n",
    "                                                                                         label='older bikers')\n",
    "\n",
    "norm_y = 1\n",
    "ax = ((df['date'][df['age'] < 40].groupby([df['date'].dt.hour]).count()) / norm_y).plot(kind=\"bar\", \n",
    "                                                                                              color='SteelBlue', \n",
    "                                                                                              alpha=0.7,\n",
    "                                                                                              label='younger bikers')\n",
    "pl.legend(fontsize=14)\n",
    "#pl.title('Distribution of Citibike bikers by age in March 2015, absolute counts',fontsize=14)\n",
    "pl.xlabel('Hour of the day',fontsize=14)\n",
    "pl.ylabel('Number of rides',fontsize=14)"
   ]
  },
  {
   "cell_type": "markdown",
   "metadata": {},
   "source": [
    "### Figure 1a: Distribution of Citibike bikers by age in March 2015, absolute counts"
   ]
  },
  {
   "cell_type": "markdown",
   "metadata": {},
   "source": [
    "### Note: the counts have errors of course. what is the error on the count statistics? \n",
    "### for N counts the error is sqrt(N) - this is because counts follow a Poisson statistic"
   ]
  },
  {
   "cell_type": "code",
   "execution_count": 10,
   "metadata": {
    "collapsed": false
   },
   "outputs": [
    {
     "data": {
      "text/plain": [
       "<matplotlib.legend.Legend at 0x7f261749c550>"
      ]
     },
     "execution_count": 10,
     "metadata": {},
     "output_type": "execute_result"
    },
    {
     "data": {
      "image/png": "[encoded data removed]",
      "text/plain": [
       "<matplotlib.figure.Figure at 0x7f261758d050>"
      ]
     },
     "metadata": {},
     "output_type": "display_data"
    }
   ],
   "source": [
    "fig=pl.figure(figsize(12,6))\n",
    "\n",
    "counts_o = df.date[df.age >= 40].groupby([df.date.dt.hour]).count()\n",
    "norm_o = 1\n",
    "error_o = np.sqrt(counts_o)\n",
    "ax=((counts_o) / norm_o).plot(kind=\"bar\",color='IndianRed',  yerr=[\n",
    "            ((error_o) / norm_o, (error_o) / norm_o)], label='older bikers')\n",
    "\n",
    "\n",
    "counts_y = df.date[df.age < 40].groupby([df.date.dt.hour]).count()\n",
    "norm_y = 1\n",
    "error_y = np.sqrt(counts_y)\n",
    "((counts_y) / norm_y).plot(kind=\"bar\", alpha=0.5, yerr=[((error_y) / norm_y, (error_y) / norm_y)], \n",
    "                           color='SteelBlue', label='younger bikers')\n",
    "\n",
    "ax.set_ylabel (\"Number of rides\",fontsize=14)\n",
    "ax.set_xlabel (\"Hour of the day\",fontsize=14)\n",
    "pl.legend(['older bikers','younger bikers'],fontsize=14)\n",
    "#pl.title('Distribution of Citibike bikers by age in March 2015, absolute counts, with statistical errors',fontsize=14)"
   ]
  },
  {
   "cell_type": "markdown",
   "metadata": {},
   "source": [
    "### Figure 1b: Distribution of Citibike bikers by age in March 2015, absolute counts, with statistical errors"
   ]
  },
  {
   "cell_type": "markdown",
   "metadata": {},
   "source": [
    "Note: These are absolute numbers. It is very hard to compare absolute numbers. Ratios (or proportions) are more ameable to comparison, so let's _normalize_ the distribution of older and younger riders, i.e. devide them by the total number of rides for that age group. \n"
   ]
  },
  {
   "cell_type": "code",
   "execution_count": 11,
   "metadata": {
    "collapsed": false
   },
   "outputs": [
    {
     "data": {
      "text/plain": [
       "<matplotlib.legend.Legend at 0x7f2617646650>"
      ]
     },
     "execution_count": 11,
     "metadata": {},
     "output_type": "execute_result"
    },
    {
     "data": {
      "image/png": "[encoded data removed]",
      "text/plain": [
       "<matplotlib.figure.Figure at 0x7f2618054cd0>"
      ]
     },
     "metadata": {},
     "output_type": "display_data"
    }
   ],
   "source": [
    "fig = pl.figure(figsize(12,6))\n",
    "\n",
    "norm_o = counts_o.sum()\n",
    "#error_o = np.sqrt(counts_o)\n",
    "((counts_o) / norm_o).plot(kind=\"bar\", color='IndianRed',  \n",
    "                           yerr=[((error_o) / norm_o, (error_o) / norm_o)], \n",
    "                           label='older bikers')\n",
    "\n",
    "norm_y = counts_y.sum()\n",
    "ax = ((counts_y) / norm_y).plot(kind=\"bar\", alpha=0.5, \n",
    "                                yerr=[((error_y) / norm_y, (error_y) / norm_y)], \n",
    "                                color='SteelBlue', label='younger bikers')\n",
    "\n",
    "ax.set_ylabel (\"Fraction of rides\",fontsize=14)\n",
    "ax.set_xlabel (\"Hour of the day\",fontsize=14)\n",
    "\n",
    "pl.legend(['older bikers','younger bikers'],fontsize=14)\n",
    "#pl.title('Distribution of Citibike bikers by age in March 2015, normalized',fontsize=14)"
   ]
  },
  {
   "cell_type": "markdown",
   "metadata": {},
   "source": [
    "### Figure 2: Distribution of Citibike bikers by age in March 2015, normalized"
   ]
  },
  {
   "cell_type": "markdown",
   "metadata": {
    "collapsed": true
   },
   "source": [
    "### Set up the test of proportions"
   ]
  },
  {
   "cell_type": "code",
   "execution_count": 12,
   "metadata": {
    "collapsed": false
   },
   "outputs": [
    {
     "name": "stdout",
     "output_type": "stream",
     "text": [
      "Older: day:0.859, night:0.141, day error:0.002, night error:0.001\n",
      "Younger: day:0.781, night:0.219, day error:0.002, night error:0.001\n"
     ]
    },
    {
     "data": {
      "text/plain": [
       "<matplotlib.legend.Legend at 0x7f26170d3e90>"
      ]
     },
     "execution_count": 12,
     "metadata": {},
     "output_type": "execute_result"
    },
    {
     "data": {
      "image/png": "[encoded data removed]",
      "text/plain": [
       "<matplotlib.figure.Figure at 0x7f26171508d0>"
      ]
     },
     "metadata": {},
     "output_type": "display_data"
    }
   ],
   "source": [
    "fig = pl.figure(figsize(15,6))\n",
    "ax1 = fig.add_subplot(121)\n",
    "ax2 = fig.add_subplot(122)\n",
    "ax1.set_xticks([])\n",
    "ax2.set_xticks([])\n",
    "\n",
    "day_y = sum(counts_y[5:19]) * 1.0 / norm_y  #fraction of younger bikers riding at day time\n",
    "night_y = (sum(counts_y[19:]) + sum(counts_y[:5])) * 1.0 / norm_y  #fraction of younger bikers riding at night time\n",
    "eday_y = np.sqrt(sum(error_y[5:19]**2)) / norm_y  #error on fraction number of younger bikers riding at day time\n",
    "enight_y = np.sqrt(sum(error_y[19:]**2) + sum(error_y[:5]**2)) / norm_y #error on fraction number of younger bikers riding at night time\n",
    "\n",
    "#same calcuation as above for older riders\n",
    "day_o = sum(counts_o[5:19]) * 1.0 / norm_o  \n",
    "night_o = (sum(counts_o[19:]) + sum(counts_o[:5])) * 1.0 / norm_o  \n",
    "eday_o = np.sqrt(sum(error_o[5:19]**2)) / norm_o  \n",
    "enight_o = np.sqrt(sum(error_o[19:]**2) + sum(error_o[:5]**2)) / norm_o \n",
    "\n",
    "print(\"Older: day:{0:.3f}, night:{1:.3f}, day error:{2:.3f}, night error:{3:.3f}\"\\\n",
    "      .format(day_o, night_o, eday_o, enight_o))\n",
    "print(\"Younger: day:{0:.3f}, night:{1:.3f}, day error:{2:.3f}, night error:{3:.3f}\"\\\n",
    "      .format(day_y, night_y, eday_y, enight_y))\n",
    "\n",
    "ax1.errorbar([0.4], [day_o], yerr=[eday_o], fmt='o', label='older')\n",
    "ax1.errorbar([0.2], [day_y], yerr=[eday_y], fmt='o', label='younger')\n",
    "ax1.set_xlim(0, 0.5)\n",
    "ax2.errorbar([0.4], [night_o], yerr=[enight_o], fmt='o', label='older')\n",
    "ax2.errorbar([0.2], [night_y], yerr=[enight_y], fmt='o', label='younger')\n",
    "ax1.set_xlim(0, 0.5)\n",
    "ax1.set_title(\"day\",fontsize=14)\n",
    "ax2.set_title(\"night\",fontsize=14)\n",
    "ax2.set_ylabel(\"Fraction of normalized rides by age\",fontsize=14)\n",
    "ax1.set_ylabel(\"Fraction of normalized rides by age\",fontsize=14)\n",
    "\n",
    "pl.xlim(-0.5, 1.5)\n",
    "pl.legend(fontsize = 20)"
   ]
  },
  {
   "cell_type": "markdown",
   "metadata": {},
   "source": [
    "### Figure 3: Fraction of Citibike bikers by age in March 2015 for day time (left) and night time (right)"
   ]
  },
  {
   "cell_type": "markdown",
   "metadata": {},
   "source": [
    "### Is the percentage of younger people that ride at night time lower or equal to that of older people?\n",
    "### 1. Z test\n",
    "** NULL HYPOTHESIS: ** \n",
    "\n",
    "The ratio of older people (>=40) biking at night over all older people biking during a day is _the same_ or _higher_  than the ratio of younger people (< 40) biking at night to all the younger people biking during a day.\n",
    "\n",
    "H0: $\\frac{Y_{\\mathrm{night}}}{Y_{\\mathrm{total}}} <= \\frac{O_{\\mathrm{night}}}{O_{\\mathrm{total}}}$\n",
    "\n",
    "H1: $\\frac{Y_{\\mathrm{night}}}{Y_{\\mathrm{total}}} > \\frac{O_{\\mathrm{night}}}{O_{\\mathrm{total}}}$\n",
    "\n",
    "I will use a significance level  $\\alpha=0.05$, which means I want the probability of getting a result at least as significant as mine to be less then 5%.\n",
    "\n",
    "** The statistics is: ** \n",
    "\n",
    "$z = \\frac{(p_0 - p_1)}{SE} $\n",
    "\n",
    "$p =\\frac{p_0  n_0 + p_1  n_1}{n_0+n_1}$\n",
    "\n",
    "$SE = \\sqrt{ p  ( 1 - p )  (\\frac{1}{n_0} + \\frac{1}{n_1}) }$\n",
    "\n",
    "and in this notation \n",
    "\n",
    "$p_0 = \\frac{Y_{\\mathrm{night}}}{Y_{\\mathrm{total}}}$\n",
    "\n",
    "and \n",
    "\n",
    "$p_1 = \\frac{O_{\\mathrm{ninght}}}{O_{\\mathrm{total}}}$"
   ]
  },
  {
   "cell_type": "code",
   "execution_count": 13,
   "metadata": {
    "collapsed": false
   },
   "outputs": [
    {
     "name": "stdout",
     "output_type": "stream",
     "text": [
      "difference between older and younger riders at night:  0.078401455916\n",
      "We must check the significance before we reject the Null Hypothesis\n"
     ]
    }
   ],
   "source": [
    "P0mP1 = night_y - night_o\n",
    "print (\"difference between older and younger riders at night: \", P0mP1)\n",
    "if P0mP1 <= 0:\n",
    "    # we are done...\n",
    "    print(\"In accordance with Null Hypothesis\")\n",
    "else:\n",
    "    # morework to do\n",
    "    print (\"We must check the significance before we reject the Null Hypothesis\")"
   ]
  },
  {
   "cell_type": "code",
   "execution_count": 14,
   "metadata": {
    "collapsed": false
   },
   "outputs": [
    {
     "name": "stdout",
     "output_type": "stream",
     "text": [
      "The z statistics is 58.61\n"
     ]
    }
   ],
   "source": [
    "p = lambda p0, p1, n0, n1: (p0 * n0 + p1 * n1) / (n0 + n1)\n",
    "se = lambda p, n0, n1: np.sqrt(p * (1 - p) * (1.0 / n0 + 1.0 / n1)) #standard error\n",
    "zscore = lambda p0, p1, s : (p0 - p1) / s\n",
    "\n",
    "# calculations\n",
    "\n",
    "sp_stdev_mw = se(p(night_y, night_o, norm_y, norm_o), norm_y, norm_o)\n",
    "# print (sp_stdev_mw)\n",
    "z = zscore(night_y, night_o, sp_stdev_mw)\n",
    "print (\"The z statistics is %.2f\"%z) "
   ]
  },
  {
   "cell_type": "markdown",
   "metadata": {},
   "source": [
    "### The largest number reported in  z stats tables is 3, which gives  a $p <0.0002$, which is smaller then my chosen $\\alpha=0.05$. so it is statistically significant."
   ]
  },
  {
   "cell_type": "markdown",
   "metadata": {},
   "source": [
    "### We reject the Null Hypothesis that older people are more likely to ride at night than younger people $p< 0.05$"
   ]
  },
  {
   "cell_type": "markdown",
   "metadata": {},
   "source": [
    "### 2. $\\chi^2$ test\n",
    "** The chisq statistics tests the statistics calculated as : **\n",
    "\n",
    "$\\chi^2 = \\sum_{i} \\frac{(observation_i - expectation_i)^2}{expectation_i}$\n",
    "\n",
    " against a chi sq distribution.\n",
    " If we talk about sample fractions  that is \n",
    "\n",
    "$\\chi^2 = \\sum_i \\frac{(f_{i,observed} - f_{i,expectated})^2}{f_{i,expected}}$\n",
    "\n",
    " Where _i_ indicates the sum over _each cell_.\n",
    " turns out this quantity is distributed according to a chi square distribution, so if i get the $\\chi^2$ statistics i can compare it to the full chisq distribution and see how far in the tail it is"
   ]
  },
  {
   "cell_type": "markdown",
   "metadata": {},
   "source": [
    "** NULL HYPOTHESIS: ** \n",
    "\n",
    "The ratio of older people (>=40) biking at night over all older people biking during a day is the same as the ratio of younger people (< 40) biking at night to all the younger people biking during a day.\n",
    "\n",
    "H0: $\\frac{Y_{\\mathrm{night}}}{Y_{\\mathrm{total}}} = \\frac{O_{\\mathrm{night}}}{O_{\\mathrm{total}}}$\n",
    "\n",
    "H1: $\\frac{Y_{\\mathrm{night}}}{Y_{\\mathrm{total}}} \\ne \\frac{O_{\\mathrm{night}}}{O_{\\mathrm{total}}}$\n",
    "\n",
    "significance level p=0.05"
   ]
  },
  {
   "cell_type": "code",
   "execution_count": 15,
   "metadata": {
    "collapsed": true
   },
   "outputs": [],
   "source": [
    "def evalChisq(values):\n",
    "    '''Evaluates the chi sq from a contingency value\n",
    "    Arguments:\n",
    "    values: 2x2 array or list, the contingengy table\n",
    "    '''\n",
    "    if not (len(values.shape) == 2 and values.shape == (2,2)):\n",
    "        print (\"must pass a 2D array\")\n",
    "        return -1\n",
    "    values = np.array(values)\n",
    "    E = np.empty_like(values)\n",
    "    for j in range(len(values[0])):\n",
    "        for i in range(2):\n",
    "            \n",
    "            E[i][j] = ((values[i,:].sum() * values[:,j].sum()) / \n",
    "                        (values).sum())\n",
    "    return ((values - E)**2 / E).sum()"
   ]
  },
  {
   "cell_type": "code",
   "execution_count": 16,
   "metadata": {
    "collapsed": false
   },
   "outputs": [
    {
     "name": "stdout",
     "output_type": "stream",
     "text": [
      "chi sq statistics is: chisq = 3434.787, DOF = 1\n"
     ]
    }
   ],
   "source": [
    "sample_values = np.array([[night_y * norm_y, (1-night_y)* norm_y], [night_o * norm_o, (1-night_o) * norm_o]])\n",
    "DOF = len(sample_values) - 1\n",
    "chisq_age = evalChisq(sample_values)\n",
    "print ('chi sq statistics is: '+\n",
    "       'chisq = {:.3f}, DOF = {:d}'.format(chisq_age, DOF))"
   ]
  },
  {
   "cell_type": "markdown",
   "metadata": {},
   "source": [
    "chi sq statistics is larger than 3.84, Null Hypothesis can be rejected."
   ]
  },
  {
   "cell_type": "markdown",
   "metadata": {},
   "source": [
    "### I will use data set from July 2015 to verify the results."
   ]
  },
  {
   "cell_type": "code",
   "execution_count": 17,
   "metadata": {
    "collapsed": false
   },
   "outputs": [
    {
     "name": "stdout",
     "output_type": "stream",
     "text": [
      "Downloading 201507\n",
      "file in place, you can continue\n"
     ]
    }
   ],
   "source": [
    "datestring = '201507'\n",
    "getCitiBikeCSV(datestring)"
   ]
  },
  {
   "cell_type": "code",
   "execution_count": 18,
   "metadata": {
    "collapsed": false
   },
   "outputs": [],
   "source": [
    "df_07 = pd.read_csv(os.getenv(\"PUIDATA\") + \"/\" + datestring + '-citibike-tripdata.csv')\n",
    "df_07['date'] = pd.to_datetime(df_07.starttime)"
   ]
  },
  {
   "cell_type": "code",
   "execution_count": 19,
   "metadata": {
    "collapsed": true
   },
   "outputs": [],
   "source": [
    "df_07.drop(['tripduration', 'starttime', 'stoptime', 'start station id',\n",
    "       'start station name', 'start station latitude',\n",
    "       'start station longitude', 'end station id', 'end station name',\n",
    "       'end station latitude', 'end station longitude', 'bikeid', 'usertype',\n",
    "       'gender'], axis=1, inplace=True)"
   ]
  },
  {
   "cell_type": "code",
   "execution_count": 20,
   "metadata": {
    "collapsed": false
   },
   "outputs": [
    {
     "data": {
      "text/html": [
       "<div>\n",
       "<table border=\"1\" class=\"dataframe\">\n",
       "  <thead>\n",
       "    <tr style=\"text-align: right;\">\n",
       "      <th></th>\n",
       "      <th>birth year</th>\n",
       "      <th>date</th>\n",
       "      <th>age</th>\n",
       "    </tr>\n",
       "  </thead>\n",
       "  <tbody>\n",
       "    <tr>\n",
       "      <th>0</th>\n",
       "      <td>1970.0</td>\n",
       "      <td>2015-07-01 00:00:03</td>\n",
       "      <td>47.0</td>\n",
       "    </tr>\n",
       "    <tr>\n",
       "      <th>1</th>\n",
       "      <td>1984.0</td>\n",
       "      <td>2015-07-01 00:00:06</td>\n",
       "      <td>33.0</td>\n",
       "    </tr>\n",
       "    <tr>\n",
       "      <th>2</th>\n",
       "      <td>1992.0</td>\n",
       "      <td>2015-07-01 00:00:17</td>\n",
       "      <td>25.0</td>\n",
       "    </tr>\n",
       "    <tr>\n",
       "      <th>3</th>\n",
       "      <td>1990.0</td>\n",
       "      <td>2015-07-01 00:00:23</td>\n",
       "      <td>27.0</td>\n",
       "    </tr>\n",
       "    <tr>\n",
       "      <th>4</th>\n",
       "      <td>1988.0</td>\n",
       "      <td>2015-07-01 00:00:44</td>\n",
       "      <td>29.0</td>\n",
       "    </tr>\n",
       "  </tbody>\n",
       "</table>\n",
       "</div>"
      ],
      "text/plain": [
       "   birth year                date   age\n",
       "0      1970.0 2015-07-01 00:00:03  47.0\n",
       "1      1984.0 2015-07-01 00:00:06  33.0\n",
       "2      1992.0 2015-07-01 00:00:17  25.0\n",
       "3      1990.0 2015-07-01 00:00:23  27.0\n",
       "4      1988.0 2015-07-01 00:00:44  29.0"
      ]
     },
     "execution_count": 20,
     "metadata": {},
     "output_type": "execute_result"
    }
   ],
   "source": [
    "df_07['age']= 2017-df_07['birth year']\n",
    "df_07.head()"
   ]
  },
  {
   "cell_type": "markdown",
   "metadata": {},
   "source": [
    "### Both z test and chi-square test are included in the function below."
   ]
  },
  {
   "cell_type": "code",
   "execution_count": 21,
   "metadata": {
    "collapsed": false
   },
   "outputs": [],
   "source": [
    "def test_df(df):\n",
    "    counts_o = df.date[df.age >= 40].groupby([df.date.dt.hour]).count()\n",
    "    counts_y = df.date[df.age < 40].groupby([df.date.dt.hour]).count()\n",
    "    norm_o = counts_o.sum()\n",
    "    norm_y = counts_y.sum()\n",
    "    # fraction of younger people riding at day and night\n",
    "    day_y = sum(counts_y[5:19]) * 1.0 / norm_y \n",
    "    night_y = (sum(counts_y[19:]) + sum(counts_y[:5])) * 1.0 / norm_y  \n",
    "    # fraction of older people riding at day and night\n",
    "    day_o = sum(counts_o[5:19]) * 1.0 / norm_o  \n",
    "    night_o = (sum(counts_o[19:]) + sum(counts_o[:5])) * 1.0 / norm_o  \n",
    "    \n",
    "    # z_test\n",
    "    p = (night_y * norm_y + night_o * norm_o) / (norm_y + norm_o)\n",
    "    se = np.sqrt(p * (1 - p) * (1.0 / norm_y + 1.0 / norm_o))\n",
    "    zscore = (night_y - night_o) / se\n",
    "    \n",
    "    # chi sq test\n",
    "    sample_values = np.array([[night_y * norm_y, (1-night_y)* norm_y], [night_o * norm_o, (1-night_o) * norm_o]])\n",
    "    chisq_age = evalChisq(sample_values)\n",
    "    \n",
    "    # effect size\n",
    "    r = zscore / np.sqrt(norm_y + norm_o)\n",
    "    h = 2 * (np.arcsin(np.sqrt(night_y)) - np.arcsin(np.sqrt(night_o)))\n",
    "    \n",
    "    return zscore, chisq_age, r, h"
   ]
  },
  {
   "cell_type": "code",
   "execution_count": 22,
   "metadata": {
    "collapsed": false
   },
   "outputs": [
    {
     "name": "stdout",
     "output_type": "stream",
     "text": [
      "The z statistics is 91.31, chi sq statistics is 8338.16\n"
     ]
    }
   ],
   "source": [
    "print (\"The z statistics is %.2f, chi sq statistics is %.2f\"%(test_df(df_07)[0],test_df(df_07)[1])) "
   ]
  },
  {
   "cell_type": "markdown",
   "metadata": {
    "collapsed": false
   },
   "source": [
    "Null hypothesizes were rejected with Z statistics and chi-square statistics equal to 91.31 and 8338.16, respectively. The results are robust that younger riders are more likely to use Citi bikes at night in warmer weathers as well."
   ]
  },
  {
   "cell_type": "code",
   "execution_count": null,
   "metadata": {
    "collapsed": true
   },
   "outputs": [],
   "source": []
  }
 ],
 "metadata": {
  "anaconda-cloud": {},
  "kernelspec": {
   "display_name": "PUI2016_Python2",
   "language": "python",
   "name": "pui2016_python2"
  },
  "language_info": {
   "codemirror_mode": {
    "name": "ipython",
    "version": 2
   },
   "file_extension": ".py",
   "mimetype": "text/x-python",
   "name": "python",
   "nbconvert_exporter": "python",
   "pygments_lexer": "ipython2",
   "version": "2.7.12"
  }
 },
 "nbformat": 4,
 "nbformat_minor": 0
}
